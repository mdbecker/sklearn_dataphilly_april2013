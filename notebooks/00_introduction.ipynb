{
 "metadata": {
  "name": "00_introduction"
 },
 "nbformat": 3,
 "nbformat_minor": 0,
 "worksheets": [
  {
   "cells": [
    {
     "cell_type": "heading",
     "level": 1,
     "metadata": {},
     "source": [
      "Introduction to Machine Learning in Python"
     ]
    },
    {
     "cell_type": "heading",
     "level": 2,
     "metadata": {},
     "source": [
      "What is Machine Learning?"
     ]
    },
    {
     "cell_type": "markdown",
     "metadata": {},
     "source": [
      "In this section we will begin to explore the basic principles of machine learning.\n",
      "Machine Learning is about building programs with **tunable parameters** (typically an\n",
      "array of floating point values) that are adjusted automatically so as to improve\n",
      "their behavior by **adapting to previously seen data.**\n",
      "\n",
      "Machine Learning can be considered a subfield of **Artificial Intelligence** since those\n",
      "algorithms can be seen as building blocks to make computers learn to behave more\n",
      "intelligently by somehow **generalizing** rather that just storing and retrieving data items\n",
      "like a database system would do.\n",
      "\n",
      "We'll take a look at two very simple machine learning tasks here.\n",
      "The first is a **classification** task: the figure shows a\n",
      "collection of two-dimensional data, colored according to two different class\n",
      "labels. A classification algorithm may be used to draw a dividing boundary\n",
      "between the two clusters of points:"
     ]
    },
    {
     "cell_type": "code",
     "collapsed": false,
     "input": [
      "# Start pylab inline mode, so figures will appear in the notebook\n",
      "%pylab inline\n",
      "figsize(15, 7.5)"
     ],
     "language": "python",
     "metadata": {},
     "outputs": []
    },
    {
     "cell_type": "code",
     "collapsed": false,
     "input": [
      "# Import the example plot from the figures directory\n",
      "from figures import plot_sgd_separator\n",
      "plot_sgd_separator()"
     ],
     "language": "python",
     "metadata": {},
     "outputs": []
    },
    {
     "cell_type": "markdown",
     "metadata": {},
     "source": [
      "This may seem like a trivial task, but it is a simple version of a very important concept.\n",
      "By drawing this separating line, we have learned a model which can **generalize** to new\n",
      "data: if you were to drop another point onto the plane which is unlabeled, this algorithm\n",
      "could now **predict** whether it's a blue or a red point.\n",
      "\n",
      "If you'd like to see the source code used to generate this, you can either open the\n",
      "code in the `figures` directory, or you can load the code using the `%load` magic command:"
     ]
    },
    {
     "cell_type": "code",
     "collapsed": false,
     "input": [
      "%load figures/sgd_separator.py"
     ],
     "language": "python",
     "metadata": {},
     "outputs": []
    },
    {
     "cell_type": "code",
     "collapsed": false,
     "input": [
      "import numpy as np\n",
      "import matplotlib.pyplot as plt\n",
      "from sklearn.linear_model import SGDClassifier\n",
      "from sklearn.datasets.samples_generator import make_blobs\n",
      "\n",
      "def plot_sgd_separator():\n",
      "    # we create 50 separable points\n",
      "    X, Y = make_blobs(n_samples=50, centers=2,\n",
      "                      random_state=0, cluster_std=0.60)\n",
      "\n",
      "    # fit the model\n",
      "    clf = SGDClassifier(loss=\"hinge\", alpha=0.01,\n",
      "                        n_iter=200, fit_intercept=True)\n",
      "    clf.fit(X, Y)\n",
      "\n",
      "    # plot the line, the points, and the nearest vectors to the plane\n",
      "    xx = np.linspace(-1, 5, 10)\n",
      "    yy = np.linspace(-1, 5, 10)\n",
      "\n",
      "    X1, X2 = np.meshgrid(xx, yy)\n",
      "    Z = np.empty(X1.shape)\n",
      "    for (i, j), val in np.ndenumerate(X1):\n",
      "        x1 = val\n",
      "        x2 = X2[i, j]\n",
      "        p = clf.decision_function([x1, x2])\n",
      "        Z[i, j] = p[0]\n",
      "    levels = [-1.0, 0.0, 1.0]\n",
      "    linestyles = ['dashed', 'solid', 'dashed']\n",
      "    colors = 'k'\n",
      "\n",
      "    ax = plt.axes()\n",
      "    ax.contour(X1, X2, Z, levels, colors=colors, linestyles=linestyles)\n",
      "    ax.scatter(X[:, 0], X[:, 1], c=Y, cmap=plt.cm.Paired)\n",
      "\n",
      "    ax.axis('tight')\n",
      "\n",
      "\n",
      "if __name__ == '__main__':\n",
      "    plot_sgd_separator()\n",
      "    plt.show()\n"
     ],
     "language": "python",
     "metadata": {},
     "outputs": []
    },
    {
     "cell_type": "markdown",
     "metadata": {},
     "source": [
      "The next simple task we'll look at is a **regression** task: a simple best-fit line\n",
      "to a set of data:"
     ]
    },
    {
     "cell_type": "code",
     "collapsed": false,
     "input": [
      "from figures import plot_linear_regression\n",
      "plot_linear_regression()"
     ],
     "language": "python",
     "metadata": {},
     "outputs": []
    },
    {
     "cell_type": "markdown",
     "metadata": {},
     "source": [
      "Again, this is an example of fitting a model to data, such that the model can make\n",
      "generalizations about new data.  The model has been **learned** from the training\n",
      "data, and can be used to predict the result of test data:\n",
      "here, we might be given an x-value, and the model would\n",
      "allow us to predict the y value.  Again, this might seem like a trivial problem,\n",
      "but it is a basic example of a type of operation that is fundamental to\n",
      "machine learning tasks."
     ]
    }
   ],
   "metadata": {}
  }
 ]
}